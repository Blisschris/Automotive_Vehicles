{
 "cells": [
  {
   "cell_type": "markdown",
   "id": "5d0d92e5",
   "metadata": {},
   "source": [
    "# Title: Automotive Vehicles \n",
    "# Analysis by: Christian Little\n",
    "# Date: 06/16/2024\n",
    "\n",
    "\r\n",
    "\n"
   ]
  },
  {
   "cell_type": "markdown",
   "id": "19ea5747-b780-4bd1-9649-fd2f5ccf16a7",
   "metadata": {},
   "source": [
    "# Introduction "
   ]
  },
  {
   "cell_type": "markdown",
   "id": "bf296810",
   "metadata": {},
   "source": [
    "This dataset provides detailed information on various car listings, covering factors such as make, model, body type, transmission, and selling prices. While it represents a sample and not the entire car industry, it offers valuable insights into trends that are important for both buyers and sellers in the automotive market. By analyzing this data, we can uncover patterns in vehicle pricing, popular body types, and transmission preferences, offering helpful guidance for making informed purchasing and selling decisions."
   ]
  },
  {
   "cell_type": "markdown",
   "id": "e0e23231",
   "metadata": {},
   "source": [
    "# ASK:"
   ]
  },
  {
   "cell_type": "markdown",
   "id": "d4958d3a",
   "metadata": {},
   "source": [
    "###  Identify the task "
   ]
  },
  {
   "cell_type": "markdown",
   "id": "7869c9db",
   "metadata": {},
   "source": [
    "### 1. Questions for the analysis  "
   ]
  },
  {
   "cell_type": "markdown",
   "id": "213d89e3",
   "metadata": {},
   "source": [
    "+ Are there any specific brands or body types that are consistently more affordable or expensive?\n",
    "+ Do certain body types tend to be more popular for specific makes?\n",
    "+ Can we identify any trends that might be relevant for car buyers, such as best-value body types or brands?\n",
    "+ What are the most common car makes and models in the dataset, and how do their prices compare?\n",
    "+ Are there noticeable price differences between automatic and manual transmissions?\n"
   ]
  },
  {
   "cell_type": "markdown",
   "id": "31ba5b32",
   "metadata": {},
   "source": [
    "### Key task:"
   ]
  },
  {
   "cell_type": "markdown",
   "id": "7c7ba303",
   "metadata": {},
   "source": [
    "The key objective of this analysis is to provide readers with the knowledge and confidence to make informed decisions, whether they are buying or selling a car. My aim is to offer fresh insights into the car market, helping individuals feel assured in their choices. Cars have many different characteristics, and by breaking these down into categories, this analysis will empower readers to select the options that best align with their preferences, based on a deeper understanding of the available data.\n",
    "\n",
    "\n",
    "\n",
    "\n",
    "\n",
    "\n"
   ]
  },
  {
   "cell_type": "markdown",
   "id": "79894831",
   "metadata": {},
   "source": [
    "# Prepare:"
   ]
  },
  {
   "cell_type": "markdown",
   "id": "0b26d30c",
   "metadata": {},
   "source": [
    "This dataset, sourced from https://www.kaggle.com/, provides comprehensive car data ranging from 1985 to 2015. Available as a single CSV file with 558,837 rows, it offers detailed information on various car types, prices, and body styles.\n",
    "\n",
    "This dataset for vehicles can be found here.\n",
    "https://www.kaggle.com/datasets/syedanwarafridi/vehicle-sales-data/code. To facilitate more in-depth analysis, the data has been carefully cleaned and organized using Microsoft Excel. This preparation allows for a thorough exploration of car trends, patterns, and frequencies, with the aim of helping first-time buyers and sellers make informed decisions."
   ]
  },
  {
   "cell_type": "markdown",
   "id": "206627d9",
   "metadata": {},
   "source": [
    "# Importing/ Installs"
   ]
  },
  {
   "cell_type": "code",
   "execution_count": null,
   "id": "4c563f2a",
   "metadata": {},
   "outputs": [],
   "source": [
    "# Shapely is used for manipulation and analysis of planar geometric objects.\n",
    "# It provides functionalities to create, manipulate, and analyze the geometry of shapes.\n",
    "!pip install shapely\n",
    "\n",
    "# Fiona is a library for reading and writing vector data in GIS formats such as shapefiles.\n",
    "# It provides an interface to handle geographic data and integrates well with GeoPandas.\n",
    "!pip install fiona\n",
    "\n",
    "# Pyproj is a Python interface to the PROJ library, which performs cartographic transformations.\n",
    "# It is used to convert geographic coordinates between different projections and coordinate systems.\n",
    "!pip install pyproj\n",
    "\n",
    "# Rtree is a spatial index library used for efficient querying of spatial data.\n",
    "# It enhances the performance of spatial operations by indexing geometric objects.\n",
    "!pip install rtree\n",
    "\n",
    "# GeoPandas extends the capabilities of pandas to handle geographic data.\n",
    "# It allows for spatial operations on geometric types and integrates with other GIS libraries.\n",
    "!pip install geopandas\n",
    "\n",
    "# Plotly is a graphing library that makes interactive, publication-quality graphs online.\n",
    "# It is used to create interactive visualizations, including maps, with easy-to-use syntax.\n",
    "!pip install plotly\n",
    "\n",
    "# Upgrade NumPy, Dask, and xarray\n",
    "# NumPy: Fundamental package for array computing with Python, essential for numerical operations.\n",
    "# Dask: Provides parallel computing with advanced scheduling, useful for large data processing.\n",
    "# xarray: N-D labeled arrays and datasets in Python, useful for working with multi-dimensional data.\n",
    "!pip install --upgrade numpy dask xarray\n",
    "!pip install pymupdf\n",
    "!pip install ipython\n",
    "\n",
    "\n"
   ]
  },
  {
   "cell_type": "code",
   "execution_count": 35,
   "id": "0cecbb29",
   "metadata": {},
   "outputs": [],
   "source": [
    "import pandas as pd\n",
    "import numpy as np\n",
    "import matplotlib.pyplot as plt \n",
    "from tabulate import tabulate\n",
    "import gc\n",
    "gc.collect()\n",
    "import matplotlib\n",
    "from matplotlib.offsetbox import OffsetImage, AnnotationBbox\n",
    "from PIL import Image\n",
    "import seaborn as sns\n",
    "from matplotlib.ticker import FuncFormatter\n",
    "\n",
    "\n",
    "\n"
   ]
  },
  {
   "cell_type": "code",
   "execution_count": 36,
   "id": "44319ef2",
   "metadata": {},
   "outputs": [],
   "source": [
    "# Load the first CSV file\n",
    "df = pd.read_csv(r\"C:\\Users\\bliss\\OneDrive\\Documents\\Jupyter Notebooks\\CarSales\\car_prices.csv\")"
   ]
  },
  {
   "cell_type": "markdown",
   "id": "5d7b1e10",
   "metadata": {},
   "source": [
    "## Lets view the data"
   ]
  },
  {
   "cell_type": "code",
   "execution_count": 37,
   "id": "7fa6895a",
   "metadata": {
    "scrolled": true
   },
   "outputs": [
    {
     "data": {
      "text/html": [
       "<div>\n",
       "<style scoped>\n",
       "    .dataframe tbody tr th:only-of-type {\n",
       "        vertical-align: middle;\n",
       "    }\n",
       "\n",
       "    .dataframe tbody tr th {\n",
       "        vertical-align: top;\n",
       "    }\n",
       "\n",
       "    .dataframe thead th {\n",
       "        text-align: right;\n",
       "    }\n",
       "</style>\n",
       "<table border=\"1\" class=\"dataframe\">\n",
       "  <thead>\n",
       "    <tr style=\"text-align: right;\">\n",
       "      <th></th>\n",
       "      <th>year</th>\n",
       "      <th>make</th>\n",
       "      <th>model</th>\n",
       "      <th>trim</th>\n",
       "      <th>body</th>\n",
       "      <th>transmission</th>\n",
       "      <th>vin</th>\n",
       "      <th>state</th>\n",
       "      <th>condition</th>\n",
       "      <th>odometer</th>\n",
       "      <th>color</th>\n",
       "      <th>interior</th>\n",
       "      <th>seller</th>\n",
       "      <th>mmr</th>\n",
       "      <th>sellingprice</th>\n",
       "      <th>saledate</th>\n",
       "    </tr>\n",
       "  </thead>\n",
       "  <tbody>\n",
       "    <tr>\n",
       "      <th>0</th>\n",
       "      <td>2015</td>\n",
       "      <td>Kia</td>\n",
       "      <td>Sorento</td>\n",
       "      <td>LX</td>\n",
       "      <td>SUV</td>\n",
       "      <td>automatic</td>\n",
       "      <td>5xyktca69fg566472</td>\n",
       "      <td>ca</td>\n",
       "      <td>5.0</td>\n",
       "      <td>16639.0</td>\n",
       "      <td>white</td>\n",
       "      <td>black</td>\n",
       "      <td>kia motors america  inc</td>\n",
       "      <td>20500.0</td>\n",
       "      <td>21500.0</td>\n",
       "      <td>Tue Dec 16 2014 12:30:00 GMT-0800 (PST)</td>\n",
       "    </tr>\n",
       "    <tr>\n",
       "      <th>1</th>\n",
       "      <td>2015</td>\n",
       "      <td>Kia</td>\n",
       "      <td>Sorento</td>\n",
       "      <td>LX</td>\n",
       "      <td>SUV</td>\n",
       "      <td>automatic</td>\n",
       "      <td>5xyktca69fg561319</td>\n",
       "      <td>ca</td>\n",
       "      <td>5.0</td>\n",
       "      <td>9393.0</td>\n",
       "      <td>white</td>\n",
       "      <td>beige</td>\n",
       "      <td>kia motors america  inc</td>\n",
       "      <td>20800.0</td>\n",
       "      <td>21500.0</td>\n",
       "      <td>Tue Dec 16 2014 12:30:00 GMT-0800 (PST)</td>\n",
       "    </tr>\n",
       "    <tr>\n",
       "      <th>2</th>\n",
       "      <td>2014</td>\n",
       "      <td>BMW</td>\n",
       "      <td>3 Series</td>\n",
       "      <td>328i SULEV</td>\n",
       "      <td>Sedan</td>\n",
       "      <td>automatic</td>\n",
       "      <td>wba3c1c51ek116351</td>\n",
       "      <td>ca</td>\n",
       "      <td>45.0</td>\n",
       "      <td>1331.0</td>\n",
       "      <td>gray</td>\n",
       "      <td>black</td>\n",
       "      <td>financial services remarketing (lease)</td>\n",
       "      <td>31900.0</td>\n",
       "      <td>30000.0</td>\n",
       "      <td>Thu Jan 15 2015 04:30:00 GMT-0800 (PST)</td>\n",
       "    </tr>\n",
       "    <tr>\n",
       "      <th>3</th>\n",
       "      <td>2015</td>\n",
       "      <td>Volvo</td>\n",
       "      <td>S60</td>\n",
       "      <td>T5</td>\n",
       "      <td>Sedan</td>\n",
       "      <td>automatic</td>\n",
       "      <td>yv1612tb4f1310987</td>\n",
       "      <td>ca</td>\n",
       "      <td>41.0</td>\n",
       "      <td>14282.0</td>\n",
       "      <td>white</td>\n",
       "      <td>black</td>\n",
       "      <td>volvo na rep/world omni</td>\n",
       "      <td>27500.0</td>\n",
       "      <td>27750.0</td>\n",
       "      <td>Thu Jan 29 2015 04:30:00 GMT-0800 (PST)</td>\n",
       "    </tr>\n",
       "    <tr>\n",
       "      <th>4</th>\n",
       "      <td>2014</td>\n",
       "      <td>BMW</td>\n",
       "      <td>6 Series Gran Coupe</td>\n",
       "      <td>650i</td>\n",
       "      <td>Sedan</td>\n",
       "      <td>automatic</td>\n",
       "      <td>wba6b2c57ed129731</td>\n",
       "      <td>ca</td>\n",
       "      <td>43.0</td>\n",
       "      <td>2641.0</td>\n",
       "      <td>gray</td>\n",
       "      <td>black</td>\n",
       "      <td>financial services remarketing (lease)</td>\n",
       "      <td>66000.0</td>\n",
       "      <td>67000.0</td>\n",
       "      <td>Thu Dec 18 2014 12:30:00 GMT-0800 (PST)</td>\n",
       "    </tr>\n",
       "    <tr>\n",
       "      <th>5</th>\n",
       "      <td>2015</td>\n",
       "      <td>Nissan</td>\n",
       "      <td>Altima</td>\n",
       "      <td>2.5 S</td>\n",
       "      <td>Sedan</td>\n",
       "      <td>automatic</td>\n",
       "      <td>1n4al3ap1fn326013</td>\n",
       "      <td>ca</td>\n",
       "      <td>1.0</td>\n",
       "      <td>5554.0</td>\n",
       "      <td>gray</td>\n",
       "      <td>black</td>\n",
       "      <td>enterprise vehicle exchange / tra / rental / t...</td>\n",
       "      <td>15350.0</td>\n",
       "      <td>10900.0</td>\n",
       "      <td>Tue Dec 30 2014 12:00:00 GMT-0800 (PST)</td>\n",
       "    </tr>\n",
       "    <tr>\n",
       "      <th>6</th>\n",
       "      <td>2014</td>\n",
       "      <td>BMW</td>\n",
       "      <td>M5</td>\n",
       "      <td>Base</td>\n",
       "      <td>Sedan</td>\n",
       "      <td>automatic</td>\n",
       "      <td>wbsfv9c51ed593089</td>\n",
       "      <td>ca</td>\n",
       "      <td>34.0</td>\n",
       "      <td>14943.0</td>\n",
       "      <td>black</td>\n",
       "      <td>black</td>\n",
       "      <td>the hertz corporation</td>\n",
       "      <td>69000.0</td>\n",
       "      <td>65000.0</td>\n",
       "      <td>Wed Dec 17 2014 12:30:00 GMT-0800 (PST)</td>\n",
       "    </tr>\n",
       "    <tr>\n",
       "      <th>7</th>\n",
       "      <td>2014</td>\n",
       "      <td>Chevrolet</td>\n",
       "      <td>Cruze</td>\n",
       "      <td>1LT</td>\n",
       "      <td>Sedan</td>\n",
       "      <td>automatic</td>\n",
       "      <td>1g1pc5sb2e7128460</td>\n",
       "      <td>ca</td>\n",
       "      <td>2.0</td>\n",
       "      <td>28617.0</td>\n",
       "      <td>black</td>\n",
       "      <td>black</td>\n",
       "      <td>enterprise vehicle exchange / tra / rental / t...</td>\n",
       "      <td>11900.0</td>\n",
       "      <td>9800.0</td>\n",
       "      <td>Tue Dec 16 2014 13:00:00 GMT-0800 (PST)</td>\n",
       "    </tr>\n",
       "    <tr>\n",
       "      <th>8</th>\n",
       "      <td>2014</td>\n",
       "      <td>Audi</td>\n",
       "      <td>A4</td>\n",
       "      <td>2.0T Premium Plus quattro</td>\n",
       "      <td>Sedan</td>\n",
       "      <td>automatic</td>\n",
       "      <td>wauffafl3en030343</td>\n",
       "      <td>ca</td>\n",
       "      <td>42.0</td>\n",
       "      <td>9557.0</td>\n",
       "      <td>white</td>\n",
       "      <td>black</td>\n",
       "      <td>audi mission viejo</td>\n",
       "      <td>32100.0</td>\n",
       "      <td>32250.0</td>\n",
       "      <td>Thu Dec 18 2014 12:00:00 GMT-0800 (PST)</td>\n",
       "    </tr>\n",
       "    <tr>\n",
       "      <th>9</th>\n",
       "      <td>2014</td>\n",
       "      <td>Chevrolet</td>\n",
       "      <td>Camaro</td>\n",
       "      <td>LT</td>\n",
       "      <td>Convertible</td>\n",
       "      <td>automatic</td>\n",
       "      <td>2g1fb3d37e9218789</td>\n",
       "      <td>ca</td>\n",
       "      <td>3.0</td>\n",
       "      <td>4809.0</td>\n",
       "      <td>red</td>\n",
       "      <td>black</td>\n",
       "      <td>d/m auto sales inc</td>\n",
       "      <td>26300.0</td>\n",
       "      <td>17500.0</td>\n",
       "      <td>Tue Jan 20 2015 04:00:00 GMT-0800 (PST)</td>\n",
       "    </tr>\n",
       "  </tbody>\n",
       "</table>\n",
       "</div>"
      ],
      "text/plain": [
       "   year       make                model                       trim  \\\n",
       "0  2015        Kia              Sorento                         LX   \n",
       "1  2015        Kia              Sorento                         LX   \n",
       "2  2014        BMW             3 Series                 328i SULEV   \n",
       "3  2015      Volvo                  S60                         T5   \n",
       "4  2014        BMW  6 Series Gran Coupe                       650i   \n",
       "5  2015     Nissan               Altima                      2.5 S   \n",
       "6  2014        BMW                   M5                       Base   \n",
       "7  2014  Chevrolet                Cruze                        1LT   \n",
       "8  2014       Audi                   A4  2.0T Premium Plus quattro   \n",
       "9  2014  Chevrolet               Camaro                         LT   \n",
       "\n",
       "          body transmission                vin state  condition  odometer  \\\n",
       "0          SUV    automatic  5xyktca69fg566472    ca        5.0   16639.0   \n",
       "1          SUV    automatic  5xyktca69fg561319    ca        5.0    9393.0   \n",
       "2        Sedan    automatic  wba3c1c51ek116351    ca       45.0    1331.0   \n",
       "3        Sedan    automatic  yv1612tb4f1310987    ca       41.0   14282.0   \n",
       "4        Sedan    automatic  wba6b2c57ed129731    ca       43.0    2641.0   \n",
       "5        Sedan    automatic  1n4al3ap1fn326013    ca        1.0    5554.0   \n",
       "6        Sedan    automatic  wbsfv9c51ed593089    ca       34.0   14943.0   \n",
       "7        Sedan    automatic  1g1pc5sb2e7128460    ca        2.0   28617.0   \n",
       "8        Sedan    automatic  wauffafl3en030343    ca       42.0    9557.0   \n",
       "9  Convertible    automatic  2g1fb3d37e9218789    ca        3.0    4809.0   \n",
       "\n",
       "   color interior                                             seller      mmr  \\\n",
       "0  white    black                            kia motors america  inc  20500.0   \n",
       "1  white    beige                            kia motors america  inc  20800.0   \n",
       "2   gray    black             financial services remarketing (lease)  31900.0   \n",
       "3  white    black                            volvo na rep/world omni  27500.0   \n",
       "4   gray    black             financial services remarketing (lease)  66000.0   \n",
       "5   gray    black  enterprise vehicle exchange / tra / rental / t...  15350.0   \n",
       "6  black    black                              the hertz corporation  69000.0   \n",
       "7  black    black  enterprise vehicle exchange / tra / rental / t...  11900.0   \n",
       "8  white    black                                 audi mission viejo  32100.0   \n",
       "9    red    black                                 d/m auto sales inc  26300.0   \n",
       "\n",
       "   sellingprice                                 saledate  \n",
       "0       21500.0  Tue Dec 16 2014 12:30:00 GMT-0800 (PST)  \n",
       "1       21500.0  Tue Dec 16 2014 12:30:00 GMT-0800 (PST)  \n",
       "2       30000.0  Thu Jan 15 2015 04:30:00 GMT-0800 (PST)  \n",
       "3       27750.0  Thu Jan 29 2015 04:30:00 GMT-0800 (PST)  \n",
       "4       67000.0  Thu Dec 18 2014 12:30:00 GMT-0800 (PST)  \n",
       "5       10900.0  Tue Dec 30 2014 12:00:00 GMT-0800 (PST)  \n",
       "6       65000.0  Wed Dec 17 2014 12:30:00 GMT-0800 (PST)  \n",
       "7        9800.0  Tue Dec 16 2014 13:00:00 GMT-0800 (PST)  \n",
       "8       32250.0  Thu Dec 18 2014 12:00:00 GMT-0800 (PST)  \n",
       "9       17500.0  Tue Jan 20 2015 04:00:00 GMT-0800 (PST)  "
      ]
     },
     "execution_count": 37,
     "metadata": {},
     "output_type": "execute_result"
    }
   ],
   "source": [
    "df.head(10)"
   ]
  },
  {
   "cell_type": "code",
   "execution_count": 38,
   "id": "ce0789ad",
   "metadata": {
    "scrolled": true
   },
   "outputs": [
    {
     "data": {
      "text/plain": [
       "Index(['year', 'make', 'model', 'trim', 'body', 'transmission', 'vin', 'state',\n",
       "       'condition', 'odometer', 'color', 'interior', 'seller', 'mmr',\n",
       "       'sellingprice', 'saledate'],\n",
       "      dtype='object')"
      ]
     },
     "execution_count": 38,
     "metadata": {},
     "output_type": "execute_result"
    }
   ],
   "source": [
    "\n",
    "df.columns"
   ]
  },
  {
   "cell_type": "code",
   "execution_count": 40,
   "id": "99253081",
   "metadata": {},
   "outputs": [
    {
     "data": {
      "text/plain": [
       "year              int64\n",
       "make             object\n",
       "model            object\n",
       "trim             object\n",
       "body             object\n",
       "transmission     object\n",
       "vin              object\n",
       "state            object\n",
       "condition       float64\n",
       "odometer        float64\n",
       "color            object\n",
       "interior         object\n",
       "seller           object\n",
       "mmr             float64\n",
       "sellingprice    float64\n",
       "saledate         object\n",
       "dtype: object"
      ]
     },
     "execution_count": 40,
     "metadata": {},
     "output_type": "execute_result"
    }
   ],
   "source": [
    "# Display the data types of each column in the DataFrame 'df'\n",
    "df.dtypes\n"
   ]
  },
  {
   "cell_type": "code",
   "execution_count": 64,
   "id": "1fec8759-589d-47b4-9850-bda2002bec93",
   "metadata": {},
   "outputs": [
    {
     "name": "stderr",
     "output_type": "stream",
     "text": [
      "C:\\Users\\bliss\\AppData\\Local\\Temp\\ipykernel_10444\\1403136721.py:2: UserWarning: Could not infer format, so each element will be parsed individually, falling back to `dateutil`. To ensure parsing is consistent and as-expected, please specify a format.\n",
      "  df['saledate'] = pd.to_datetime(df['saledate'], errors='coerce')\n"
     ]
    },
    {
     "name": "stdout",
     "output_type": "stream",
     "text": [
      "0    2014-12-16 12:30:00+08:00\n",
      "1    2014-12-16 12:30:00+08:00\n",
      "2    2015-01-15 04:30:00+08:00\n",
      "3    2015-01-29 04:30:00+08:00\n",
      "4    2014-12-18 12:30:00+08:00\n",
      "Name: saledate, dtype: object\n"
     ]
    },
    {
     "name": "stderr",
     "output_type": "stream",
     "text": [
      "C:\\Users\\bliss\\AppData\\Local\\Temp\\ipykernel_10444\\1403136721.py:2: FutureWarning: In a future version of pandas, parsing datetimes with mixed time zones will raise an error unless `utc=True`. Please specify `utc=True` to opt in to the new behaviour and silence this warning. To create a `Series` with mixed offsets and `object` dtype, please use `apply` and `datetime.datetime.strptime`\n",
      "  df['saledate'] = pd.to_datetime(df['saledate'], errors='coerce')\n"
     ]
    }
   ],
   "source": [
    "# Converting the 'saledate' column to datetime format\n",
    "df['saledate'] = pd.to_datetime(df['saledate'], errors='coerce')\n",
    "\n",
    "# Display the first few rows to verify the change\n",
    "print(df['saledate'].head())\n"
   ]
  },
  {
   "cell_type": "markdown",
   "id": "6835441b-1015-45ba-90de-1f65750f66d7",
   "metadata": {},
   "source": [
    "# Now its time to clean and restructure the data "
   ]
  },
  {
   "cell_type": "code",
   "execution_count": 65,
   "id": "1a7e352c",
   "metadata": {},
   "outputs": [
    {
     "name": "stdout",
     "output_type": "stream",
     "text": [
      "['automatic' 'manual']\n"
     ]
    }
   ],
   "source": [
    "# Check unique values in 'transmission' to understand what needs to be cleaned\n",
    "print(df['transmission'].unique())\n",
    "\n",
    "# Remove rows where 'transmission' is 'sedan'\n",
    "df = df[df['transmission'] != 'sedan']\n",
    "\n",
    "# Alternatively, if there might be capitalization or spacing issues:\n",
    "df['transmission'] = df['transmission'].str.strip().str.lower()  # This normalizes the data\n",
    "df = df[df['transmission'] != 'sedan']\n"
   ]
  },
  {
   "cell_type": "code",
   "execution_count": 41,
   "id": "77f1f05d",
   "metadata": {},
   "outputs": [],
   "source": [
    "# Remove duplicate rows,keeping the first occurrence\n",
    "df = df.drop_duplicates()"
   ]
  },
  {
   "cell_type": "code",
   "execution_count": 42,
   "id": "4c4eaa58",
   "metadata": {},
   "outputs": [],
   "source": [
    "# Convert 'year' column to datetime format becasue column contains Months,years,and days. \n",
    "df['year'] = pd.to_datetime(df['year'], format='%Y')\n"
   ]
  },
  {
   "cell_type": "code",
   "execution_count": 51,
   "id": "308b6739",
   "metadata": {},
   "outputs": [],
   "source": [
    "# Format the sellingprice as USD\n",
    "df['sellingprice'] = df['sellingprice'].apply(lambda x: f\"${x:,.2f}\")\n"
   ]
  },
  {
   "cell_type": "code",
   "execution_count": 66,
   "id": "2706b4b8",
   "metadata": {},
   "outputs": [
    {
     "name": "stdout",
     "output_type": "stream",
     "text": [
      "Unique transmissions after filtering: ['automatic' 'manual']\n"
     ]
    }
   ],
   "source": [
    "# Remove rows where transmission is 'unknown' or 'sedan'\n",
    "df = df[(df['transmission'] != 'nan') & (df['transmission'] != 'sedan')]\n",
    "\n",
    "# Check to ensure these values are removed\n",
    "print(\"Unique transmissions after filtering:\", df['transmission'].unique())\n"
   ]
  },
  {
   "cell_type": "code",
   "execution_count": 68,
   "id": "7017ead5",
   "metadata": {},
   "outputs": [],
   "source": [
    "# Drop rows with any missing values from the DataFrame and create a new DataFrame 'cleaned_df'\n",
    "cleaned_df = df.dropna()\n",
    "\n",
    "# Check and display the number of missing values in each column of the cleaned DataFrame\n",
    "cleaned_df.isna().sum()\n",
    "\n",
    "df.to_csv(r\"C:\\Users\\bliss\\OneDrive\\Documents\\Jupyter Notebooks\\CarSales\\cleaned_car_prices_no_unknown_sedan.csv\", index=False)\n"
   ]
  },
  {
   "cell_type": "code",
   "execution_count": 70,
   "id": "37ebacc9",
   "metadata": {},
   "outputs": [
    {
     "name": "stdout",
     "output_type": "stream",
     "text": [
      "Missing values before cleaning:\n",
      "year                0\n",
      "make             8540\n",
      "model            8632\n",
      "trim             8856\n",
      "body            11032\n",
      "transmission        0\n",
      "vin                 0\n",
      "state               0\n",
      "condition        9909\n",
      "odometer           63\n",
      "color             595\n",
      "interior          595\n",
      "seller              0\n",
      "mmr                11\n",
      "sellingprice       11\n",
      "saledate           11\n",
      "dtype: int64\n",
      "\n",
      "Missing values after cleaning:\n",
      "year            0\n",
      "make            0\n",
      "model           0\n",
      "trim            0\n",
      "body            0\n",
      "transmission    0\n",
      "vin             0\n",
      "state           0\n",
      "condition       0\n",
      "odometer        0\n",
      "color           0\n",
      "interior        0\n",
      "seller          0\n",
      "mmr             0\n",
      "sellingprice    0\n",
      "saledate        0\n",
      "dtype: int64\n"
     ]
    }
   ],
   "source": [
    "# Check for missing values in all columns\n",
    "missing_values = df.isnull().sum()\n",
    "print(\"Missing values before cleaning:\")\n",
    "print(missing_values)\n",
    "\n",
    "# Remove rows with missing values in any column\n",
    "df_cleaned = df.dropna()\n",
    "\n",
    "# Check again to ensure all missing values are removed\n",
    "missing_values_after_cleaning = df_cleaned.isnull().sum()\n",
    "print(\"\\nMissing values after cleaning:\")\n",
    "print(missing_values_after_cleaning)\n"
   ]
  },
  {
   "cell_type": "markdown",
   "id": "ff193c17",
   "metadata": {},
   "source": [
    "# Lets seek for patterns in this dataset "
   ]
  },
  {
   "cell_type": "markdown",
   "id": "dbb09449",
   "metadata": {},
   "source": [
    "## Counting and calculating  "
   ]
  },
  {
   "cell_type": "markdown",
   "id": "3de7ddc8",
   "metadata": {},
   "source": [
    "#### Total number of cars "
   ]
  },
  {
   "cell_type": "code",
   "execution_count": 21,
   "id": "3862f9fd",
   "metadata": {},
   "outputs": [
    {
     "data": {
      "text/plain": [
       "'Total number of cars: 484919'"
      ]
     },
     "metadata": {},
     "output_type": "display_data"
    }
   ],
   "source": [
    "total_cars = df['make'].count()\n",
    "\n",
    "# Display the total number of cars\n",
    "display(\"Total number of cars: {}\".format(total_cars))"
   ]
  },
  {
   "cell_type": "markdown",
   "id": "f06726ec-105f-4afc-a78e-ed57a8be2566",
   "metadata": {},
   "source": [
    "### Total count of cars by make (TOP 5)"
   ]
  },
  {
   "cell_type": "code",
   "execution_count": 56,
   "id": "da0135f6-02b7-48fa-99f0-250cfc2b90b5",
   "metadata": {
    "scrolled": true
   },
   "outputs": [
    {
     "name": "stdout",
     "output_type": "stream",
     "text": [
      "        make  total_cars\n",
      "0       Ford       82460\n",
      "1  Chevrolet       55336\n",
      "2     Nissan       44755\n",
      "3     Toyota       36072\n",
      "4      Dodge       27687\n"
     ]
    }
   ],
   "source": [
    "# Step 1: Count the total number of cars per make\n",
    "top_5_makes_by_count = df['make'].value_counts().nlargest(5).reset_index()\n",
    "\n",
    "# Step 2: Rename the columns for clarity\n",
    "top_5_makes_by_count.columns = ['make', 'total_cars']\n",
    "\n",
    "# Step 3: Display the top 5 makes with the highest total count of cars\n",
    "print(top_5_makes_by_count)\n"
   ]
  },
  {
   "cell_type": "markdown",
   "id": "82908fbf-7277-46a2-83df-5bd6d9d5469e",
   "metadata": {},
   "source": [
    "### Average selling price by body type (Top 5 brands ) "
   ]
  },
  {
   "cell_type": "code",
   "execution_count": 71,
   "id": "07aa3cd8-4103-4831-927d-753ad11bea4f",
   "metadata": {},
   "outputs": [
    {
     "name": "stdout",
     "output_type": "stream",
     "text": [
      "Top 5 makes with average selling price by body type:\n",
      "+----+-----------+-------------+----------------+\n",
      "|    | make      | body        | sellingprice   |\n",
      "+====+===========+=============+================+\n",
      "|  0 | Chevrolet | Convertible | $24,156.32     |\n",
      "+----+-----------+-------------+----------------+\n",
      "|  1 | Chevrolet | Coupe       | $13,908.18     |\n",
      "+----+-----------+-------------+----------------+\n",
      "|  2 | Chevrolet | Hatchback   | $8,549.16      |\n",
      "+----+-----------+-------------+----------------+\n",
      "|  3 | Chevrolet | SUV         | $13,998.43     |\n",
      "+----+-----------+-------------+----------------+\n",
      "|  4 | Chevrolet | Sedan       | $8,877.35      |\n",
      "+----+-----------+-------------+----------------+\n",
      "|  5 | Ford      | Convertible | $13,552.20     |\n",
      "+----+-----------+-------------+----------------+\n",
      "|  6 | Ford      | Coupe       | $14,255.89     |\n",
      "+----+-----------+-------------+----------------+\n",
      "|  7 | Ford      | Hatchback   | $10,488.42     |\n",
      "+----+-----------+-------------+----------------+\n",
      "|  8 | Ford      | SUV         | $16,801.88     |\n",
      "+----+-----------+-------------+----------------+\n",
      "|  9 | Ford      | Sedan       | $11,105.63     |\n",
      "+----+-----------+-------------+----------------+\n",
      "| 10 | Honda     | Convertible | $10,729.63     |\n",
      "+----+-----------+-------------+----------------+\n",
      "| 11 | Honda     | Coupe       | $7,666.24      |\n",
      "+----+-----------+-------------+----------------+\n",
      "| 12 | Honda     | Hatchback   | $11,628.98     |\n",
      "+----+-----------+-------------+----------------+\n",
      "| 13 | Honda     | SUV         | $14,862.86     |\n",
      "+----+-----------+-------------+----------------+\n",
      "| 14 | Honda     | Sedan       | $9,565.65      |\n",
      "+----+-----------+-------------+----------------+\n",
      "| 15 | Nissan    | Convertible | $11,911.54     |\n",
      "+----+-----------+-------------+----------------+\n",
      "| 16 | Nissan    | Coupe       | $15,311.58     |\n",
      "+----+-----------+-------------+----------------+\n",
      "| 17 | Nissan    | Hatchback   | $10,034.93     |\n",
      "+----+-----------+-------------+----------------+\n",
      "| 18 | Nissan    | SUV         | $13,262.15     |\n",
      "+----+-----------+-------------+----------------+\n",
      "| 19 | Nissan    | Sedan       | $11,024.77     |\n",
      "+----+-----------+-------------+----------------+\n",
      "| 20 | Toyota    | Convertible | $6,064.12      |\n",
      "+----+-----------+-------------+----------------+\n",
      "| 21 | Toyota    | Coupe       | $3,207.42      |\n",
      "+----+-----------+-------------+----------------+\n",
      "| 22 | Toyota    | Hatchback   | $9,685.96      |\n",
      "+----+-----------+-------------+----------------+\n",
      "| 23 | Toyota    | SUV         | $15,144.67     |\n",
      "+----+-----------+-------------+----------------+\n",
      "| 24 | Toyota    | Sedan       | $10,446.82     |\n",
      "+----+-----------+-------------+----------------+\n"
     ]
    }
   ],
   "source": [
    "\n",
    "\n",
    "# Step 1: Filter the dataset to include only the specific body types of interest: Coupe, Sedan, SUV, Hatchback, Convertible\n",
    "filtered_bodies = ['Coupe', 'Sedan', 'SUV', 'Hatchback', 'Convertible']\n",
    "filtered_data = df[df['body'].isin(filtered_bodies)]\n",
    "\n",
    "# Step 2: Get the top 5 makes by total car count\n",
    "top_5_makes = filtered_data['make'].value_counts().nlargest(5).index\n",
    "\n",
    "# Step 3: Filter the dataset to include only the top 5 makes\n",
    "filtered_top_5_data = filtered_data[filtered_data['make'].isin(top_5_makes)]\n",
    "\n",
    "# Step 4: Group by 'make' and 'body' to calculate the average selling price for each make's body type\n",
    "average_price_by_make_and_body = filtered_top_5_data.groupby(['make', 'body'])['sellingprice'].mean().reset_index()\n",
    "\n",
    "# Step 5: Format the selling price to USD format with a dollar sign\n",
    "average_price_by_make_and_body['sellingprice'] = average_price_by_make_and_body['sellingprice'].apply(lambda x: '${:,.2f}'.format(x))\n",
    "\n",
    "# Step 6: Create a readable table with borders using tabulate\n",
    "table = tabulate(average_price_by_make_and_body, headers='keys', tablefmt='grid')\n",
    "\n",
    "# Step 7: Display the result\n",
    "print(\"Top 5 makes with average selling price by body type:\")\n",
    "print(table)\n"
   ]
  },
  {
   "cell_type": "markdown",
   "id": "d46d4378",
   "metadata": {},
   "source": [
    "### Total number of cars for each year"
   ]
  },
  {
   "cell_type": "code",
   "execution_count": 22,
   "id": "4d2b5420",
   "metadata": {},
   "outputs": [
    {
     "data": {
      "text/html": [
       "<div>\n",
       "<style scoped>\n",
       "    .dataframe tbody tr th:only-of-type {\n",
       "        vertical-align: middle;\n",
       "    }\n",
       "\n",
       "    .dataframe tbody tr th {\n",
       "        vertical-align: top;\n",
       "    }\n",
       "\n",
       "    .dataframe thead th {\n",
       "        text-align: right;\n",
       "    }\n",
       "</style>\n",
       "<table border=\"1\" class=\"dataframe\">\n",
       "  <thead>\n",
       "    <tr style=\"text-align: right;\">\n",
       "      <th></th>\n",
       "      <th>year</th>\n",
       "      <th>count</th>\n",
       "    </tr>\n",
       "  </thead>\n",
       "  <tbody>\n",
       "    <tr>\n",
       "      <th>0</th>\n",
       "      <td>1982-01-01</td>\n",
       "      <td>2</td>\n",
       "    </tr>\n",
       "    <tr>\n",
       "      <th>1</th>\n",
       "      <td>1983-01-01</td>\n",
       "      <td>1</td>\n",
       "    </tr>\n",
       "    <tr>\n",
       "      <th>2</th>\n",
       "      <td>1984-01-01</td>\n",
       "      <td>5</td>\n",
       "    </tr>\n",
       "    <tr>\n",
       "      <th>3</th>\n",
       "      <td>1985-01-01</td>\n",
       "      <td>10</td>\n",
       "    </tr>\n",
       "    <tr>\n",
       "      <th>4</th>\n",
       "      <td>1986-01-01</td>\n",
       "      <td>9</td>\n",
       "    </tr>\n",
       "    <tr>\n",
       "      <th>5</th>\n",
       "      <td>1987-01-01</td>\n",
       "      <td>8</td>\n",
       "    </tr>\n",
       "    <tr>\n",
       "      <th>6</th>\n",
       "      <td>1988-01-01</td>\n",
       "      <td>11</td>\n",
       "    </tr>\n",
       "    <tr>\n",
       "      <th>7</th>\n",
       "      <td>1989-01-01</td>\n",
       "      <td>19</td>\n",
       "    </tr>\n",
       "    <tr>\n",
       "      <th>8</th>\n",
       "      <td>1990-01-01</td>\n",
       "      <td>41</td>\n",
       "    </tr>\n",
       "    <tr>\n",
       "      <th>9</th>\n",
       "      <td>1991-01-01</td>\n",
       "      <td>60</td>\n",
       "    </tr>\n",
       "    <tr>\n",
       "      <th>10</th>\n",
       "      <td>1992-01-01</td>\n",
       "      <td>114</td>\n",
       "    </tr>\n",
       "    <tr>\n",
       "      <th>11</th>\n",
       "      <td>1993-01-01</td>\n",
       "      <td>171</td>\n",
       "    </tr>\n",
       "    <tr>\n",
       "      <th>12</th>\n",
       "      <td>1994-01-01</td>\n",
       "      <td>341</td>\n",
       "    </tr>\n",
       "    <tr>\n",
       "      <th>13</th>\n",
       "      <td>1995-01-01</td>\n",
       "      <td>602</td>\n",
       "    </tr>\n",
       "    <tr>\n",
       "      <th>14</th>\n",
       "      <td>1996-01-01</td>\n",
       "      <td>732</td>\n",
       "    </tr>\n",
       "    <tr>\n",
       "      <th>15</th>\n",
       "      <td>1997-01-01</td>\n",
       "      <td>1340</td>\n",
       "    </tr>\n",
       "    <tr>\n",
       "      <th>16</th>\n",
       "      <td>1998-01-01</td>\n",
       "      <td>1871</td>\n",
       "    </tr>\n",
       "    <tr>\n",
       "      <th>17</th>\n",
       "      <td>1999-01-01</td>\n",
       "      <td>2860</td>\n",
       "    </tr>\n",
       "    <tr>\n",
       "      <th>18</th>\n",
       "      <td>2000-01-01</td>\n",
       "      <td>4533</td>\n",
       "    </tr>\n",
       "    <tr>\n",
       "      <th>19</th>\n",
       "      <td>2001-01-01</td>\n",
       "      <td>5640</td>\n",
       "    </tr>\n",
       "    <tr>\n",
       "      <th>20</th>\n",
       "      <td>2002-01-01</td>\n",
       "      <td>8475</td>\n",
       "    </tr>\n",
       "    <tr>\n",
       "      <th>21</th>\n",
       "      <td>2003-01-01</td>\n",
       "      <td>11707</td>\n",
       "    </tr>\n",
       "    <tr>\n",
       "      <th>22</th>\n",
       "      <td>2004-01-01</td>\n",
       "      <td>15425</td>\n",
       "    </tr>\n",
       "    <tr>\n",
       "      <th>23</th>\n",
       "      <td>2005-01-01</td>\n",
       "      <td>19395</td>\n",
       "    </tr>\n",
       "    <tr>\n",
       "      <th>24</th>\n",
       "      <td>2006-01-01</td>\n",
       "      <td>24371</td>\n",
       "    </tr>\n",
       "    <tr>\n",
       "      <th>25</th>\n",
       "      <td>2007-01-01</td>\n",
       "      <td>27815</td>\n",
       "    </tr>\n",
       "    <tr>\n",
       "      <th>26</th>\n",
       "      <td>2008-01-01</td>\n",
       "      <td>28328</td>\n",
       "    </tr>\n",
       "    <tr>\n",
       "      <th>27</th>\n",
       "      <td>2009-01-01</td>\n",
       "      <td>18544</td>\n",
       "    </tr>\n",
       "    <tr>\n",
       "      <th>28</th>\n",
       "      <td>2010-01-01</td>\n",
       "      <td>23526</td>\n",
       "    </tr>\n",
       "    <tr>\n",
       "      <th>29</th>\n",
       "      <td>2011-01-01</td>\n",
       "      <td>42143</td>\n",
       "    </tr>\n",
       "    <tr>\n",
       "      <th>30</th>\n",
       "      <td>2012-01-01</td>\n",
       "      <td>88749</td>\n",
       "    </tr>\n",
       "    <tr>\n",
       "      <th>31</th>\n",
       "      <td>2013-01-01</td>\n",
       "      <td>87951</td>\n",
       "    </tr>\n",
       "    <tr>\n",
       "      <th>32</th>\n",
       "      <td>2014-01-01</td>\n",
       "      <td>70411</td>\n",
       "    </tr>\n",
       "    <tr>\n",
       "      <th>33</th>\n",
       "      <td>2015-01-01</td>\n",
       "      <td>8249</td>\n",
       "    </tr>\n",
       "  </tbody>\n",
       "</table>\n",
       "</div>"
      ],
      "text/plain": [
       "         year  count\n",
       "0  1982-01-01      2\n",
       "1  1983-01-01      1\n",
       "2  1984-01-01      5\n",
       "3  1985-01-01     10\n",
       "4  1986-01-01      9\n",
       "5  1987-01-01      8\n",
       "6  1988-01-01     11\n",
       "7  1989-01-01     19\n",
       "8  1990-01-01     41\n",
       "9  1991-01-01     60\n",
       "10 1992-01-01    114\n",
       "11 1993-01-01    171\n",
       "12 1994-01-01    341\n",
       "13 1995-01-01    602\n",
       "14 1996-01-01    732\n",
       "15 1997-01-01   1340\n",
       "16 1998-01-01   1871\n",
       "17 1999-01-01   2860\n",
       "18 2000-01-01   4533\n",
       "19 2001-01-01   5640\n",
       "20 2002-01-01   8475\n",
       "21 2003-01-01  11707\n",
       "22 2004-01-01  15425\n",
       "23 2005-01-01  19395\n",
       "24 2006-01-01  24371\n",
       "25 2007-01-01  27815\n",
       "26 2008-01-01  28328\n",
       "27 2009-01-01  18544\n",
       "28 2010-01-01  23526\n",
       "29 2011-01-01  42143\n",
       "30 2012-01-01  88749\n",
       "31 2013-01-01  87951\n",
       "32 2014-01-01  70411\n",
       "33 2015-01-01   8249"
      ]
     },
     "metadata": {},
     "output_type": "display_data"
    }
   ],
   "source": [
    "# Group by 'year' and count the number of entries for each year\n",
    "car_counts_by_year = df.groupby('year').size().reset_index(name='count')\n",
    "\n",
    "# Display the DataFrame\n",
    "display(car_counts_by_year)\n"
   ]
  },
  {
   "cell_type": "markdown",
   "id": "b281f878",
   "metadata": {},
   "source": [
    "### Total number of cars by decade "
   ]
  },
  {
   "cell_type": "code",
   "execution_count": 23,
   "id": "2a616ebc",
   "metadata": {
    "scrolled": true
   },
   "outputs": [
    {
     "name": "stderr",
     "output_type": "stream",
     "text": [
      "C:\\Users\\bliss\\AppData\\Local\\Temp\\ipykernel_10444\\1936352768.py:10: FutureWarning: The default of observed=False is deprecated and will be changed to True in a future version of pandas. Pass observed=False to retain current behavior or observed=True to adopt the future default and silence this warning.\n",
      "  car_counts_by_decade = df.groupby('Decade').size().reset_index(name='Count')\n"
     ]
    },
    {
     "data": {
      "text/html": [
       "<div>\n",
       "<style scoped>\n",
       "    .dataframe tbody tr th:only-of-type {\n",
       "        vertical-align: middle;\n",
       "    }\n",
       "\n",
       "    .dataframe tbody tr th {\n",
       "        vertical-align: top;\n",
       "    }\n",
       "\n",
       "    .dataframe thead th {\n",
       "        text-align: right;\n",
       "    }\n",
       "</style>\n",
       "<table border=\"1\" class=\"dataframe\">\n",
       "  <thead>\n",
       "    <tr style=\"text-align: right;\">\n",
       "      <th></th>\n",
       "      <th>Decade</th>\n",
       "      <th>Count</th>\n",
       "    </tr>\n",
       "  </thead>\n",
       "  <tbody>\n",
       "    <tr>\n",
       "      <th>0</th>\n",
       "      <td>1982-1992</td>\n",
       "      <td>280</td>\n",
       "    </tr>\n",
       "    <tr>\n",
       "      <th>1</th>\n",
       "      <td>1993-2003</td>\n",
       "      <td>38272</td>\n",
       "    </tr>\n",
       "    <tr>\n",
       "      <th>2</th>\n",
       "      <td>2004-2015</td>\n",
       "      <td>446658</td>\n",
       "    </tr>\n",
       "  </tbody>\n",
       "</table>\n",
       "</div>"
      ],
      "text/plain": [
       "      Decade   Count\n",
       "0  1982-1992     280\n",
       "1  1993-2003   38272\n",
       "2  2004-2015  446658"
      ]
     },
     "metadata": {},
     "output_type": "display_data"
    }
   ],
   "source": [
    "# Define bins for the decades with datetime\n",
    "bins = [pd.Timestamp('1982-01-01'), pd.Timestamp('1993-01-01'), pd.Timestamp('2004-01-01'), pd.Timestamp('2015-01-01')]\n",
    "labels = ['1982-1992', '1993-2003', '2004-2015',]\n",
    "\n",
    "# Create a new column 'Decade' using datetime bins\n",
    "df['Decade'] = pd.cut(df['year'], bins=bins, labels=labels, right=False)\n",
    "\n",
    "\n",
    "# Group by 'Decade' and count the entries\n",
    "car_counts_by_decade = df.groupby('Decade').size().reset_index(name='Count')\n",
    "\n",
    "# Display the results\n",
    "display(car_counts_by_decade)\n",
    "\n"
   ]
  },
  {
   "cell_type": "markdown",
   "id": "91a5daf5",
   "metadata": {},
   "source": [
    "### Total  number of Automatic and Manual cars "
   ]
  },
  {
   "cell_type": "code",
   "execution_count": 24,
   "id": "a5cc532f",
   "metadata": {},
   "outputs": [
    {
     "name": "stdout",
     "output_type": "stream",
     "text": [
      "  Transmission   Count\n",
      "0    automatic  475915\n",
      "1       manual   17544\n"
     ]
    }
   ],
   "source": [
    "# Count the occurrences of each transmission type\n",
    "transmission_counts = df['transmission'].value_counts().reset_index(name='Count')\n",
    "transmission_counts.columns = ['Transmission', 'Count']  # Renaming columns for clarity\n",
    "\n",
    "# Display the cleaned and counted transmission data\n",
    "print(transmission_counts)\n"
   ]
  },
  {
   "cell_type": "markdown",
   "id": "320e58ea",
   "metadata": {},
   "source": [
    "### Total number of cars by color "
   ]
  },
  {
   "cell_type": "code",
   "execution_count": 25,
   "id": "fd06d519",
   "metadata": {},
   "outputs": [
    {
     "data": {
      "text/plain": [
       "color\n",
       "black        96843\n",
       "white        93260\n",
       "silver       74574\n",
       "gray         72983\n",
       "blue         45273\n",
       "red          38985\n",
       "—            22338\n",
       "gold         10344\n",
       "green        10100\n",
       "burgundy      8012\n",
       "beige         7980\n",
       "brown         5800\n",
       "orange        1878\n",
       "purple        1345\n",
       "off-white     1290\n",
       "yellow        1156\n",
       "charcoal       442\n",
       "turquoise      208\n",
       "pink            40\n",
       "lime            13\n",
       "Name: count, dtype: int64"
      ]
     },
     "metadata": {},
     "output_type": "display_data"
    }
   ],
   "source": [
    "# Count the occurrences of each color\n",
    "color_counts = df['color'].value_counts()\n",
    "\n",
    "# Display the color counts\n",
    "display(color_counts)\n"
   ]
  },
  {
   "cell_type": "markdown",
   "id": "71e8ac0f",
   "metadata": {},
   "source": [
    "### Average selling price by Transmission "
   ]
  },
  {
   "cell_type": "code",
   "execution_count": 63,
   "id": "30b74e97",
   "metadata": {
    "scrolled": true
   },
   "outputs": [
    {
     "name": "stdout",
     "output_type": "stream",
     "text": [
      "Average selling price by transmission type:\n",
      "transmission\n",
      "automatic    $13,540.41\n",
      "manual       $11,211.45\n",
      "Name: sellingprice, dtype: object\n"
     ]
    }
   ],
   "source": [
    "# Step 1: Calculate the average selling price for each type of transmission\n",
    "average_prices = df.groupby('transmission')['sellingprice'].mean()\n",
    "\n",
    "# Step 2: Format the average selling prices to USD format with a dollar sign\n",
    "average_prices_usd = average_prices.apply(lambda x: '${:,.2f}'.format(x))\n",
    "\n",
    "# Step 3: Display the average selling prices in USD format\n",
    "print(\"Average selling price by transmission type:\")\n",
    "print(average_prices_usd)\n"
   ]
  },
  {
   "cell_type": "markdown",
   "id": "73da2b4b",
   "metadata": {},
   "source": [
    "# visualization"
   ]
  },
  {
   "cell_type": "markdown",
   "id": "6e64e023-90d2-4671-984d-c3c82d8254dc",
   "metadata": {},
   "source": [
    "### Top Car Makes in the US"
   ]
  },
  {
   "cell_type": "code",
   "execution_count": 32,
   "id": "ed9d23b5",
   "metadata": {},
   "outputs": [
    {
     "data": {
      "image/png": "[encoded data removed]",
      "text/plain": [
       "<Figure size 1400x1000 with 1 Axes>"
      ]
     },
     "metadata": {},
     "output_type": "display_data"
    }
   ],
   "source": [
    "# Assuming df is already loaded with the car make data\n",
    "make_counts = df['make'].value_counts()\n",
    "top_10_makes = make_counts.head(10)\n",
    "\n",
    "image_paths = {\n",
    "    'Toyota': r'C:\\Users\\bliss\\OneDrive\\Documents\\Jupyter Notebooks\\CarSales\\unnamed.jpg',\n",
    "    'Ford': r'C:\\Users\\bliss\\OneDrive\\Documents\\Jupyter Notebooks\\CarSales\\Ford_logo_flat.svg.png',\n",
    "    'Honda': r'C:\\Users\\bliss\\OneDrive\\Documents\\Jupyter Notebooks\\CarSales\\honda5836.logowik.com.webp',\n",
    "    'Chevrolet': r'C:\\Users\\bliss\\OneDrive\\Documents\\Jupyter Notebooks\\CarSales\\Chevrolet-logo.png',\n",
    "    'Hyundai': r'C:\\Users\\bliss\\OneDrive\\Documents\\Jupyter Notebooks\\CarSales\\kisspng-hyundai-motor-company-portable-network-graphics-ve-5b778a1ca87e30.7479622015345607966902.jpg',\n",
    "    'Nissan': r'C:\\Users\\bliss\\OneDrive\\Documents\\Jupyter Notebooks\\CarSales\\maxresdefault.jpg',\n",
    "    'Kia': r'C:\\Users\\bliss\\OneDrive\\Documents\\Jupyter Notebooks\\CarSales\\71JJPEJLWSL._AC_UF894,1000_QL80_.jpg',\n",
    "    'BMW': r'C:\\Users\\bliss\\OneDrive\\Documents\\Jupyter Notebooks\\CarSales\\BMW.svg.png',\n",
    "    'Dodge': r'C:\\Users\\bliss\\OneDrive\\Documents\\Jupyter Notebooks\\CarSales\\Emblem-Dodge.jpg',  \n",
    "    'Chrysler': r'C:\\Users\\bliss\\OneDrive\\Documents\\Jupyter Notebooks\\CarSales\\Chevrolet-logo.png'  \n",
    "}\n",
    "\n",
    "\n",
    "fig, ax = plt.subplots(figsize=(14, 10))  # Increased figure size for more space\n",
    "bars = ax.bar(top_10_makes.index, top_10_makes.values, color='skyblue')\n",
    "\n",
    "def get_image(path, zoom):\n",
    "    im = Image.open(path)\n",
    "    return OffsetImage(im, zoom=zoom)\n",
    "\n",
    "for bar, make in zip(bars, top_10_makes.index):\n",
    "    if make in image_paths:\n",
    "        zoom_level = 0.025  # Reduced zoom level to fit the layout\n",
    "        ab = AnnotationBbox(get_image(image_paths[make], zoom_level),\n",
    "                            (bar.get_x() + bar.get_width() / 2, bar.get_height()),\n",
    "                            frameon=False,\n",
    "                            box_alignment=(0.5, 1))  # Adjusted alignment\n",
    "        ax.add_artist(ab)\n",
    "\n",
    "plt.title('Top 10 Car Makes')\n",
    "plt.xlabel('Make')\n",
    "plt.ylabel('Number of Cars')\n",
    "plt.xticks(rotation=45)\n",
    "plt.subplots_adjust(bottom=0.1, top=0.85)  # Manually adjust margins\n",
    "plt.show()\n"
   ]
  },
  {
   "cell_type": "markdown",
   "id": "e0029ba5-f24c-4137-90d0-3e6c93de4eb3",
   "metadata": {},
   "source": [
    "NOTES: A key observation about this chart is that Ford, being an American-made brand, is expected to have a strong presence in this dataset."
   ]
  },
  {
   "cell_type": "markdown",
   "id": "4daec0e4-140f-4b11-a2ef-15294b724d04",
   "metadata": {},
   "source": [
    "# Average selling price"
   ]
  },
  {
   "cell_type": "code",
   "execution_count": 81,
   "id": "639cd145-afb8-4998-9949-5f58dc0a263f",
   "metadata": {},
   "outputs": [
    {
     "name": "stderr",
     "output_type": "stream",
     "text": [
      "<>:10: SyntaxWarning: invalid escape sequence '\\$'\n",
      "<>:10: SyntaxWarning: invalid escape sequence '\\$'\n",
      "C:\\Users\\bliss\\AppData\\Local\\Temp\\ipykernel_10444\\1678360685.py:10: SyntaxWarning: invalid escape sequence '\\$'\n",
      "  average_price_by_make_and_body['sellingprice'] = average_price_by_make_and_body['sellingprice'].replace({'\\$': '', ',': ''}, regex=True).astype(float)\n"
     ]
    },
    {
     "data": {
      "image/png": "[encoded data removed]",
      "text/plain": [
       "<Figure size 1200x600 with 1 Axes>"
      ]
     },
     "metadata": {},
     "output_type": "display_data"
    }
   ],
   "source": [
    "# Function to format y-axis as USD currency\n",
    "def usd_formatter(x, pos):\n",
    "    return '${:,.0f}'.format(x)\n",
    "\n",
    "# Convert 'sellingprice' back to numeric for plotting\n",
    "average_price_by_make_and_body['sellingprice'] = average_price_by_make_and_body['sellingprice'].replace({'\\$': '', ',': ''}, regex=True).astype(float)\n",
    "\n",
    "# Create the plot\n",
    "plt.figure(figsize=(12, 6))\n",
    "sns.barplot(data=average_price_by_make_and_body, x='make', y='sellingprice', hue='body')\n",
    "\n",
    "# Add titles and labels\n",
    "plt.title('Average Selling Price by Body Type for Top 5 Makes')\n",
    "plt.xlabel('Car Make')\n",
    "plt.ylabel('Average Selling Price (USD)')\n",
    "plt.legend(title='Body Type')\n",
    "plt.xticks(rotation=45)\n",
    "\n",
    "# Format y-axis as USD currency\n",
    "formatter = FuncFormatter(usd_formatter)\n",
    "plt.gca().yaxis.set_major_formatter(formatter)\n",
    "\n",
    "plt.tight_layout()\n",
    "\n",
    "# Show the plot\n",
    "plt.show()\n"
   ]
  },
  {
   "cell_type": "markdown",
   "id": "04d74208-a887-4b7e-8f78-358735a9b6cb",
   "metadata": {},
   "source": [
    "NOTES: Toyota and Honda, as Japan's leading brands, typically have lower average selling prices across various body types, highlighting their emphasis on affordability and the economy segment."
   ]
  },
  {
   "cell_type": "markdown",
   "id": "07390f8e-cf12-4657-ab5c-d49656e5b5a6",
   "metadata": {},
   "source": [
    "# Car count by Decades"
   ]
  },
  {
   "cell_type": "code",
   "execution_count": 28,
   "id": "7f60b184",
   "metadata": {
    "scrolled": true
   },
   "outputs": [
    {
     "data": {
      "image/png": "[encoded data removed]",
      "text/plain": [
       "<Figure size 1000x600 with 1 Axes>"
      ]
     },
     "metadata": {},
     "output_type": "display_data"
    }
   ],
   "source": [
    "# Assuming car_counts_by_decade is predefined and has the necessary 'Decade' and 'Count' columns\n",
    "# Example data for demonstration purposes\n",
    "data = {\n",
    "    'Decade': ['1982-1992', '1993-2003', '2004-2015'],\n",
    "    'Count': [150, 180, 220]\n",
    "}\n",
    "car_counts_by_decade = pd.DataFrame(data)\n",
    "\n",
    "# List of colors for each bar\n",
    "colors = ['red', 'green', 'blue']  # Define more colors if there are more decades\n",
    "\n",
    "# Create a bar chart\n",
    "plt.figure(figsize=(10, 6))\n",
    "plt.bar(car_counts_by_decade['Decade'], car_counts_by_decade['Count'], color=colors)\n",
    "plt.title('Car Counts by Decade')\n",
    "plt.xlabel('Decade')\n",
    "plt.ylabel('Number of Cars')\n",
    "plt.xticks(rotation=45)\n",
    "plt.tight_layout()\n",
    "plt.show()\n"
   ]
  },
  {
   "cell_type": "markdown",
   "id": "a0c7b28b-3338-4a28-8d2f-bd8dec68fd32",
   "metadata": {},
   "source": [
    "NOTES: The graph reveals a clear upward trend, with the number of cars steadily increasing each decade, reflecting the growing popularity and availability of vehicles over time."
   ]
  },
  {
   "cell_type": "markdown",
   "id": "fd3fb559-a5e0-4f2c-9254-e9304b45cf1d",
   "metadata": {},
   "source": [
    "# Car count by each Year "
   ]
  },
  {
   "cell_type": "code",
   "execution_count": 30,
   "id": "008b5e4a",
   "metadata": {
    "scrolled": true
   },
   "outputs": [
    {
     "data": {
      "image/png": "[encoded data removed]",
      "text/plain": [
       "<Figure size 1000x600 with 1 Axes>"
      ]
     },
     "metadata": {},
     "output_type": "display_data"
    }
   ],
   "source": [
    "# Ensure the 'year' data type is correct for plotting; convert if necessary\n",
    "car_counts_by_year['year'] = pd.to_datetime(car_counts_by_year['year'], format='%Y')  # Adjust format as necessary\n",
    "\n",
    "plt.figure(figsize=(10, 6))  # Set the figure size for better readability\n",
    "plt.plot(car_counts_by_year['year'], car_counts_by_year['count'], marker='o', linestyle='-')  # Line plot with markers\n",
    "plt.title('Car Counts by Year')  # Add a title\n",
    "plt.xlabel('Year')  # Label the x-axis\n",
    "plt.ylabel('Number of Cars')  # Label the y-axis\n",
    "plt.grid(True)  # Add a grid for easier reading\n",
    "plt.xticks(rotation=45)  # Rotate x-axis labels for better visibility\n",
    "plt.tight_layout()  # Adjust layout to make sure everything fits without overlap\n",
    "plt.show()  # Display the plot\n"
   ]
  },
  {
   "cell_type": "markdown",
   "id": "1dce0927-9af9-4ce9-a552-016bd38abf7a",
   "metadata": {},
   "source": [
    "NOTES: There is a significant spike in car counts between 2009 and 2012. Overall, the graph demonstrates an upward trend in vehicle counts over the years, suggesting an increase in vehicle production or ownership."
   ]
  },
  {
   "cell_type": "markdown",
   "id": "ed07d8ff-adc4-454d-bc69-b2055ba388d4",
   "metadata": {},
   "source": [
    "# Transmission: Automatic VS. Manual "
   ]
  },
  {
   "cell_type": "code",
   "execution_count": 29,
   "id": "40d27f14",
   "metadata": {},
   "outputs": [
    {
     "data": {
      "image/png": "[encoded data removed]",
      "text/plain": [
       "<Figure size 800x800 with 1 Axes>"
      ]
     },
     "metadata": {},
     "output_type": "display_data"
    }
   ],
   "source": [
    "# transmission_counts['Transmission'] might have values like 'automatic', 'manual'\n",
    "# transmission_counts['Count'] holds the counts of each type\n",
    "\n",
    "# Create a pie chart\n",
    "plt.figure(figsize=(8, 8))  # Set the figure size\n",
    "plt.pie(transmission_counts['Count'], labels=transmission_counts['Transmission'], autopct='%1.1f%%', startangle=140)\n",
    "plt.title('Distribution of Car Transmissions')\n",
    "plt.show()\n"
   ]
  },
  {
   "cell_type": "markdown",
   "id": "0e763c8b-9d88-46ac-8691-cb4e624dea23",
   "metadata": {},
   "source": [
    "NOTES: Automatic transmissions likely dominate the distribution, reflecting the growing preference for automatic vehicles in the market.\n",
    "       \n",
    "       "
   ]
  },
  {
   "cell_type": "markdown",
   "id": "b4b33e4a-1ec9-404a-8f0d-f82c1d5d0429",
   "metadata": {},
   "source": [
    "# Vehicle Colors (Preference) "
   ]
  },
  {
   "cell_type": "code",
   "execution_count": 31,
   "id": "fa1fb0b4",
   "metadata": {},
   "outputs": [
    {
     "data": {
      "image/png": "[encoded data removed]",
      "text/plain": [
       "<Figure size 1400x800 with 1 Axes>"
      ]
     },
     "metadata": {},
     "output_type": "display_data"
    }
   ],
   "source": [
    "top_colors = df['color'].value_counts().head(6)\n",
    "# Define a dictionary mapping color names to actual color codes\n",
    "color_mapping = {\n",
    "    'black': 'black',\n",
    "    'white': '#F0F0F0',  # Changed from 'white' to a light gray color\n",
    "    'silver': 'silver',\n",
    "    'red': 'red',\n",
    "    'blue': 'blue',\n",
    "    'gray': 'gray',\n",
    "    'green': 'green',\n",
    "    'brown': 'brown',\n",
    "    'beige': 'beige',\n",
    "    'yellow': 'yellow',\n",
    "    # Add more mappings if necessary\n",
    "}\n",
    "\n",
    "# Assuming 'top_colors' is your DataFrame or Series with indexed color names\n",
    "# Create a list of colors for the bars by mapping from the top_colors index\n",
    "bar_colors = [color_mapping[color] if color in color_mapping else 'grey' for color in top_colors.index]\n",
    "\n",
    "\n",
    "import matplotlib.pyplot as plt\n",
    "\n",
    "# Assuming you already have the 'top_colors' data prepared\n",
    "# For demonstration, let's say it's already available as 'top_colors'\n",
    "\n",
    "plt.figure(figsize=(14, 8))  # Increase figure size for better spacing\n",
    "plt.bar(top_colors.index, top_colors.values, color=bar_colors)  # Use the color list for bar colors\n",
    "plt.title('Top 6 Car Colors', fontsize=16)  # Increase title font size\n",
    "plt.xlabel('Color', fontsize=14)  # Increase x-label font size\n",
    "plt.ylabel('Number of Cars', fontsize=14)  # Increase y-label font size\n",
    "plt.xticks(rotation=45, fontsize=12)  # Rotate labels and increase font size\n",
    "plt.tight_layout()  # Adjust layout\n",
    "plt.show()\n"
   ]
  },
  {
   "cell_type": "markdown",
   "id": "443591df-74f9-49c6-af98-ff90e7507a0e",
   "metadata": {},
   "source": [
    "NOTES: The chart highlights the most popular car colors, with certain shades, like black and white, likely appearing frequently due to their classic appeal."
   ]
  },
  {
   "cell_type": "markdown",
   "id": "f7568277-f06f-4ba0-b5af-ece3e97f4b18",
   "metadata": {},
   "source": [
    "# Conclusion:"
   ]
  },
  {
   "cell_type": "markdown",
   "id": "e4de9a80-6e9c-4a62-87a6-fad31f884b81",
   "metadata": {},
   "source": [
    "This comprehensive analysis of the automotive dataset offers valuable insights into current trends, consumer preferences, and market dynamics within the car industry. By examining factors such as car counts over the years, transmission types, and average selling prices across different body types, we can draw several key conclusions about the state of the automotive market.\n",
    "\n",
    "**Firstly**, the steady increase in car counts over the years indicates a growing demand for vehicles, likely driven by advances in technology, changing consumer lifestyles, and the expansion of automotive production capabilities. The significant spike in vehicle counts between 2009 and 2012 highlights a pivotal moment in the industry, as interest rates for financing were more accessible during this time.\n",
    "\n",
    "**Secondly**, the distribution of transmission types reveals a clear consumer preference for automatic vehicles, which are favored for their convenience and ease of use. This shift reflects broader trends in urbanization and lifestyle changes, where consumers prioritize comfort and accessibility in their daily commutes.\n",
    "\n",
    "**Moreover**, the analysis of car colors and average selling prices illustrates the diversity of options available in the market. Brands like Toyota and Honda, known for their reliability and affordability, cater to budget-conscious consumers, while luxury brands such as BMW command higher prices, appealing to a different segment of the market.\n",
    "\n",
    "**Ultimately**, this analysis serves to inform readers about the complexities of the automotive landscape, encouraging them to consider various factors when selecting a vehicle. Whether they are potential car buyers, industry stakeholders, or enthusiasts, understanding these trends can guide informed decisions, shape marketing strategies, and drive innovation in future vehicle designs. The dataset not only reflects consumer behavior but also provides a roadmap for the industry's trajectory, emphasizing the importance of adaptability in an ever-evolving market.\n",
    "\n",
    "\n",
    "\n",
    "\n",
    "\n",
    "\n"
   ]
  },
  {
   "cell_type": "code",
   "execution_count": null,
   "id": "76270a97-0206-47b5-bf14-b8f678fc975d",
   "metadata": {},
   "outputs": [],
   "source": []
  }
 ],
 "metadata": {
  "kernelspec": {
   "display_name": "Python 3 (ipykernel)",
   "language": "python",
   "name": "python3"
  },
  "language_info": {
   "codemirror_mode": {
    "name": "ipython",
    "version": 3
   },
   "file_extension": ".py",
   "mimetype": "text/x-python",
   "name": "python",
   "nbconvert_exporter": "python",
   "pygments_lexer": "ipython3",
   "version": "3.12.4"
  }
 },
 "nbformat": 4,
 "nbformat_minor": 5
}
